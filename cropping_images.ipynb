{
 "cells": [
  {
   "cell_type": "code",
   "execution_count": 5,
   "metadata": {},
   "outputs": [],
   "source": [
    "import matplotlib.pyplot as plt\n",
    "import numpy as np\n",
    "import os\n",
    "import PIL\n",
    "import tensorflow as tf\n",
    "\n",
    "from tensorflow import keras\n",
    "from tensorflow.keras import layers\n",
    "from tensorflow.keras.models import Sequential \n",
    "import cv2\n",
    "\n",
    "import scipy.io as sio\n",
    "import pandas as pd\n",
    "\n",
    "# If you cant run this run the following commands in terminal\n",
    "# python -m pip install -U pip\n",
    "# python -m pip install scipy\n",
    "# pip install opencv-python\n",
    "# python3 -m pip install tensorflow\n",
    "# python -m pip install -U matplotlib\n"
   ]
  },
  {
   "cell_type": "code",
   "execution_count": null,
   "metadata": {},
   "outputs": [],
   "source": [
    "car_annotations = sio.loadmat()"
   ]
  }
 ],
 "metadata": {
  "kernelspec": {
   "display_name": "Python 3.9.13 64-bit (microsoft store)",
   "language": "python",
   "name": "python3"
  },
  "language_info": {
   "codemirror_mode": {
    "name": "ipython",
    "version": 3
   },
   "file_extension": ".py",
   "mimetype": "text/x-python",
   "name": "python",
   "nbconvert_exporter": "python",
   "pygments_lexer": "ipython3",
   "version": "3.9.13"
  },
  "orig_nbformat": 4,
  "vscode": {
   "interpreter": {
    "hash": "1826bd01c5bdbd0adec4a4d72c5651d3f9cb4345f45a88763456754e40874ac7"
   }
  }
 },
 "nbformat": 4,
 "nbformat_minor": 2
}
